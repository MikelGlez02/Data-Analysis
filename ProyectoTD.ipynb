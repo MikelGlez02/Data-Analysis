{
 "cells": [
  {
   "cell_type": "markdown",
   "metadata": {},
   "source": [
    "# Proyecto TD: 2024/2025\n",
    "Este proyecto será ..."
   ]
  },
  {
   "cell_type": "code",
   "execution_count": null,
   "metadata": {},
   "outputs": [],
   "source": [
    "# Importar librerías necesarias\n",
    "import sys\n",
    "from src.utils.logger import setup_logger\n",
    "from src.utils.version_checker import check_python_version\n",
    "from src.preprocessing.text_cleaner import preprocess_text\n",
    "from src.models.regression import train_model, evaluate_model\n",
    "from src.database.mongodb_handler import MongoDBHandler\n",
    "\n",
    "# Configuración inicial\n",
    "logger = setup_logger()\n",
    "check_python_version()"
   ]
  },
  {
   "cell_type": "markdown",
   "metadata": {},
   "source": [
    "## Conexión a MongoDB"
   ]
  },
  {
   "cell_type": "code",
   "execution_count": null,
   "metadata": {},
   "outputs": [],
   "source": [
    "# Conectar a MongoDB\n",
    "db_handler = MongoDBHandler()\n",
    "logger.info(\"Conexión a MongoDB establecida.\")"
   ]
  },
  {
   "cell_type": "markdown",
   "metadata": {},
   "source": [
    "## Preprocesar Datos"
   ]
  },
  {
   "cell_type": "code",
   "execution_count": null,
   "metadata": {},
   "outputs": [],
   "source": [
    "# Definir rutas\n",
    "input_data = \"data/raw/recipes.json\"\n",
    "output_data = \"data/processed/recipes_cleaned.json\"\n",
    "\n",
    "# Ejecutar preprocesamiento\n",
    "logger.info(\"Iniciando preprocesamiento...\")\n",
    "preprocess_text(input_data, output_data)"
   ]
  },
  {
   "cell_type": "markdown",
   "metadata": {},
   "source": [
    "## Entrenamiento del Modelo"
   ]
  },
  {
   "cell_type": "code",
   "execution_count": null,
   "metadata": {},
   "outputs": [],
   "source": [
    "# Tipo de modelo\n",
    "model_type = \"pytorch\"\n",
    "\n",
    "# Entrenar modelo\n",
    "logger.info(\"Entrenando modelo...\")\n",
    "train_model(model_type)"
   ]
  },
  {
   "cell_type": "markdown",
   "metadata": {},
   "source": [
    "## Evaluación del Modelo"
   ]
  },
  {
   "cell_type": "code",
   "execution_count": null,
   "metadata": {},
   "outputs": [],
   "source": [
    "# Evaluar modelo\n",
    "logger.info(\"Evaluando modelo...\")\n",
    "evaluate_model(model_type)"
   ]
  }
 ],
 "metadata": {
  "kernelspec": {
   "display_name": "Python 3",
   "language": "python",
   "name": "python3"
  },
  "language_info": {
   "codemirror_mode": {
    "name": "ipython",
    "version": 3
   },
   "file_extension": ".py",
   "mimetype": "text/x-python",
   "name": "python",
   "nbconvert_exporter": "python",
   "pygments_lexer": "ipython3",
   "version": "3.8.10"
  }
 },
 "nbformat": 4,
 "nbformat_minor": 5
}
