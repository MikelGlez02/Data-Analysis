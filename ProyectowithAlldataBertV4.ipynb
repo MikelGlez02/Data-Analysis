{
 "cells": [
  {
   "cell_type": "code",
   "execution_count": 1,
   "metadata": {},
   "outputs": [],
   "source": [
    "import torch\n",
    "import pandas as pd\n",
    "import numpy as np\n",
    "from sklearn.model_selection import train_test_split\n",
    "from sklearn.feature_extraction.text import TfidfVectorizer\n",
    "from sklearn.preprocessing import StandardScaler\n",
    "from transformers import BertTokenizer ,BertForSequenceClassification\n",
    "from transformers import Trainer, TrainingArguments\n",
    "from sklearn.metrics import mean_squared_error, r2_score, mean_absolute_error\n",
    "from sklearn.pipeline import Pipeline\n",
    "from transformers import BertTokenizer, BertModel\n",
    "import matplotlib.pyplot as plt\n",
    "import spacy\n",
    "import torch.nn as nn\n",
    "import torch.optim as optim\n",
    "from torch.hub import load\n",
    "from gensim.models import Word2Vec\n",
    "from sklearn.neighbors import KNeighborsRegressor\n",
    "\n",
    "\n",
    "\n"
   ]
  },
  {
   "cell_type": "code",
   "execution_count": null,
   "metadata": {},
   "outputs": [],
   "source": [
    "device = torch.device(\"cuda\" if torch.cuda.is_available() else \"cpu\") # Comprobamos el uso de la tarjeta gráfica (GPU)\n",
    "print(f\"Using device: {device}\")"
   ]
  },
  {
   "cell_type": "code",
   "execution_count": 3,
   "metadata": {},
   "outputs": [],
   "source": [
    "file_path = 'full_format_recipes.json' \n",
    "data = pd.read_json(file_path) # Descargamos el archivo JSON\n",
    "data.dropna(inplace=True)\n",
    "data = data.sample(frac=1, random_state=42).reset_index(drop=True) # Se seleccionará todas las filas de manera aleatoria.\n",
    "\n"
   ]
  },
  {
   "cell_type": "code",
   "execution_count": null,
   "metadata": {},
   "outputs": [],
   "source": [
    "\n",
    "print(f\"Dataset shape: {data.shape}\") # Tamaño del dataset\n",
    "print(\"Columns:\", data.columns) # Columnas del dataset"
   ]
  },
  {
   "cell_type": "code",
   "execution_count": 5,
   "metadata": {},
   "outputs": [],
   "source": [
    "StringData = data[['directions', 'desc', 'rating','categories','title']].copy() # Columnas de interés para el análisis estadístico\n",
    "\n",
    "StringDataWithNames=data[['directions', 'desc', 'rating','categories','title']].copy()\n",
    "\n",
    "\n",
    "\n",
    "\n"
   ]
  },
  {
   "cell_type": "code",
   "execution_count": 6,
   "metadata": {},
   "outputs": [],
   "source": [
    "string_columns = ['directions', 'categories', 'desc', 'title'] \n",
    "\n",
    "for col in string_columns:\n",
    "    StringDataWithNames[col] = StringDataWithNames[col].apply(\n",
    "        lambda x: f\"{col}: {', '.join(map(str, x))}\" if isinstance(x, (list, np.ndarray)) else f\"{col}: {x}\" if pd.notnull(x) else x # Añadimos el nombre de las columnas antes de cada valor\n",
    "    )\n",
    "\n",
    "\n",
    "# Combinamos las cadenas de texto\n",
    "StringDataWithNames['combined_text'] = (\n",
    "    StringDataWithNames['desc'] +  \" [SEP] \"+ \n",
    "    StringDataWithNames['title'] + \" [SEP] \" +\n",
    "    StringDataWithNames['directions'] + \" [SEP] \" +\n",
    "    StringDataWithNames['categories']\n",
    ")\n",
    "\n",
    "# Antes de concatenar, comprobamos que son cadenas de texto\n",
    "StringDataWithNames['Alltext'] = StringDataWithNames['directions'].apply(\n",
    "    lambda x: \" \".join(x) if isinstance(x, list) else str(x)\n",
    ") + \" [SEP] \" + StringDataWithNames['categories'].apply(\n",
    "    lambda x: \" \".join(x) if isinstance(x, list) else str(x)\n",
    ") + \" [SEP] \" + StringDataWithNames['desc'].apply(\n",
    "    lambda x: str(x)\n",
    ") + \" [SEP] \" + StringDataWithNames['title'].apply(\n",
    "    lambda x: str(x)\n",
    ")\n",
    "\n",
    "\n"
   ]
  },
  {
   "cell_type": "code",
   "execution_count": null,
   "metadata": {},
   "outputs": [],
   "source": [
    "\n",
    "\n",
    "# Calculamos la media del rating por cada categoría\n",
    "categories_exploded = data.explode('categories')\n",
    "category_ratings = categories_exploded.groupby('categories')['rating'].mean().sort_values(ascending=False)\n",
    "\n",
    "# Plot the top 20 categories\n",
    "plt.figure(figsize=(12, 8))\n",
    "category_ratings.head(20).plot(kind='bar', color='skyblue')\n",
    "plt.title('Top 20 Categorías Más Valoradas', fontsize=16)\n",
    "plt.xlabel('Categoría', fontsize=14)\n",
    "plt.ylabel('Puntuación promedio', fontsize=14)\n",
    "plt.xticks(rotation=45, ha='right')\n",
    "plt.grid(axis='y', linestyle='--', alpha=0.7)\n",
    "plt.tight_layout()\n",
    "plt.show()\n",
    "\n",
    "# Plot all categories without x-axis labels\n",
    "plt.figure(figsize=(16, 10))\n",
    "category_ratings.plot(kind='bar', color='lightgreen')\n",
    "plt.title('Puntuaciones Promedio de Todas las Categorías', fontsize=16)\n",
    "plt.xlabel('Categoría', fontsize=14)\n",
    "plt.ylabel('Puntuación promedio', fontsize=14)\n",
    "plt.xticks([])  # Removes x-axis labels\n",
    "plt.grid(axis='y', linestyle='--', alpha=0.7)\n",
    "plt.tight_layout()\n",
    "plt.show()\n",
    "\n",
    "# Display the total number of unique categories\n",
    "categorias_unicas = categories_exploded['categories'].nunique()\n",
    "print(f\"Número total de categorías únicas: {categorias_unicas}\")\n",
    "\n",
    "\n"
   ]
  },
  {
   "cell_type": "code",
   "execution_count": 8,
   "metadata": {},
   "outputs": [],
   "source": [
    "# Text preprocessing function\n",
    "nlp = spacy.load('en_core_web_sm')\n",
    "def preprocess_text(text):\n",
    "    doc = nlp(text)\n",
    "    return \" \".join([token.lemma_ for token in doc if not token.is_stop and token.is_alpha])\n"
   ]
  },
  {
   "cell_type": "code",
   "execution_count": 9,
   "metadata": {},
   "outputs": [],
   "source": [
    "\n",
    "\n",
    "# Apply preprocessing\n",
    "StringData['processed_directions'] = StringData['directions'].apply(lambda x: preprocess_text(\" \".join(x) if isinstance(x, list) else x))\n",
    "StringData['processed_desc'] = StringData['desc'].apply(lambda x: preprocess_text(\" \".join(x) if isinstance(x, list) else x))\n",
    "StringData['processed_categories'] = StringData['categories'].apply(lambda x: preprocess_text(\" \".join(x) if isinstance(x, list) else x))\n",
    "StringData['processed_title'] = StringData['title'].apply(lambda x: preprocess_text(\" \".join(x) if isinstance(x, list) else x))\n",
    "\n",
    "\n",
    "\n",
    "\n",
    "\n"
   ]
  },
  {
   "cell_type": "code",
   "execution_count": 10,
   "metadata": {},
   "outputs": [],
   "source": [
    "# Extract and normalize numeric features\n",
    "numeric_features = data[['fat', 'protein', 'calories', 'sodium']]\n",
    "scaler = StandardScaler()\n",
    "numeric_features = scaler.fit_transform(numeric_features)"
   ]
  },
  {
   "cell_type": "code",
   "execution_count": null,
   "metadata": {},
   "outputs": [],
   "source": [
    "print(StringData[['processed_directions', 'processed_desc', 'processed_categories', 'processed_title']].head())"
   ]
  },
  {
   "cell_type": "markdown",
   "metadata": {},
   "source": [
    "--------------------------------------------------------------------TF-IDF------------------------------------------------------------------"
   ]
  },
  {
   "cell_type": "code",
   "execution_count": 12,
   "metadata": {},
   "outputs": [],
   "source": [
    "# TF-IDF vectorization for individual columns\n",
    "vectorizer = TfidfVectorizer(max_features=100)\n",
    "categories_tfidf = vectorizer.fit_transform(StringData['processed_categories'])\n",
    "desc_tfidf = vectorizer.fit_transform(StringData['processed_desc'])\n",
    "directions_tfidf = vectorizer.fit_transform(StringData['processed_directions'])\n",
    "title_tfidf = vectorizer.fit_transform(StringData['processed_title'])"
   ]
  },
  {
   "cell_type": "code",
   "execution_count": 13,
   "metadata": {},
   "outputs": [],
   "source": [
    "#Convert data to X and Y combining numeric and written features\n",
    "X_TFIDF = torch.tensor(\n",
    "    pd.concat(\n",
    "        [pd.DataFrame(categories_tfidf.toarray()), pd.DataFrame(desc_tfidf.toarray()), pd.DataFrame(directions_tfidf.toarray()), pd.DataFrame(title_tfidf.toarray()), pd.DataFrame(numeric_features)],\n",
    "        axis=1\n",
    "    ).values,\n",
    "    dtype=torch.float32\n",
    ")\n",
    "y = torch.tensor(data['rating'].values, dtype=torch.float32)  # Target variable"
   ]
  },
  {
   "cell_type": "code",
   "execution_count": 14,
   "metadata": {},
   "outputs": [],
   "source": [
    "# Train-test-validation split\n",
    "X_train_TFIDF, X_test_TFIDF, y_train, y_test = train_test_split(\n",
    "   X_TFIDF, y, test_size=0.2, random_state=42)\n",
    "\n",
    "X_val_TFIDF, X_test_TFIDF, y_val, y_test = train_test_split(\n",
    "    X_test_TFIDF, y_test, test_size=0.5, random_state=42)  "
   ]
  },
  {
   "cell_type": "markdown",
   "metadata": {},
   "source": [
    "--------------------------------------------------------------------WORD2VEC------------------------------------------------------------------"
   ]
  },
  {
   "cell_type": "code",
   "execution_count": 15,
   "metadata": {},
   "outputs": [],
   "source": [
    "# Prepare data for Word2Vec\n",
    "documents = StringData['processed_directions'].tolist() + StringData['processed_desc'].tolist() + \\\n",
    "            StringData['processed_categories'].tolist() + StringData['processed_title'].tolist()\n",
    "tokenized_documents = [doc.split() for doc in documents]\n",
    "\n"
   ]
  },
  {
   "cell_type": "code",
   "execution_count": 16,
   "metadata": {},
   "outputs": [],
   "source": [
    "# Train Word2Vec model\n",
    "word2vec_model = Word2Vec(sentences=tokenized_documents, vector_size=100, window=5, min_count=1, workers=4)"
   ]
  },
  {
   "cell_type": "code",
   "execution_count": 17,
   "metadata": {},
   "outputs": [],
   "source": [
    "# Function to calculate document embeddings\n",
    "def get_doc_embedding(doc, model):\n",
    "    words = doc.split()\n",
    "    word_vectors = [model.wv[word] for word in words if word in model.wv]\n",
    "    if len(word_vectors) > 0:\n",
    "        return np.mean(word_vectors, axis=0)\n",
    "    else:\n",
    "        return np.zeros(model.vector_size)\n"
   ]
  },
  {
   "cell_type": "code",
   "execution_count": 18,
   "metadata": {},
   "outputs": [],
   "source": [
    "\n",
    "# Generate Word2Vec embeddings for each column\n",
    "StringData['directions_w2v'] = StringData['processed_directions'].apply(lambda x: get_doc_embedding(x, word2vec_model))\n",
    "StringData['desc_w2v'] = StringData['processed_desc'].apply(lambda x: get_doc_embedding(x, word2vec_model))\n",
    "StringData['categories_w2v'] = StringData['processed_categories'].apply(lambda x: get_doc_embedding(x, word2vec_model))\n",
    "StringData['title_w2v'] = StringData['processed_title'].apply(lambda x: get_doc_embedding(x, word2vec_model))\n"
   ]
  },
  {
   "cell_type": "code",
   "execution_count": 19,
   "metadata": {},
   "outputs": [],
   "source": [
    "\n",
    "# Combine Word2Vec embeddings into a single feature matrix\n",
    "w2v_features = np.array(StringData['directions_w2v'].tolist()) + \\\n",
    "               np.array(StringData['desc_w2v'].tolist()) + \\\n",
    "               np.array(StringData['categories_w2v'].tolist()) + \\\n",
    "               np.array(StringData['title_w2v'].tolist())\n"
   ]
  },
  {
   "cell_type": "code",
   "execution_count": 20,
   "metadata": {},
   "outputs": [],
   "source": [
    "#Convert data to X and Y combining numeric and written features\n",
    "X_W2V = torch.tensor(\n",
    "    pd.concat(\n",
    "        [pd.DataFrame(w2v_features), pd.DataFrame(numeric_features)],\n",
    "        axis=1\n",
    "    ).values,\n",
    "    dtype=torch.float32\n",
    ")\n",
    "y = torch.tensor(data['rating'].values, dtype=torch.float32)  # Target variable\n",
    "\n",
    "#\n",
    "# final_features = np.hstack([w2v_features, numeric_features])\n"
   ]
  },
  {
   "cell_type": "code",
   "execution_count": 21,
   "metadata": {},
   "outputs": [],
   "source": [
    "# Train-test split\n",
    "X_train_W2V, X_test_W2V, y_train, y_test = train_test_split(\n",
    "   X_W2V, y, test_size=0.2, random_state=42)\n",
    "X_val_W2V, X_test_W2V, y_val, y_test = train_test_split(\n",
    "    X_test_W2V, y_test, test_size=0.5, random_state=42)  "
   ]
  },
  {
   "cell_type": "markdown",
   "metadata": {},
   "source": [
    "--------------------------------------------------------------------BERT------------------------------------------------------------------"
   ]
  },
  {
   "cell_type": "code",
   "execution_count": 22,
   "metadata": {},
   "outputs": [],
   "source": [
    "\n",
    "# Using BERT embeddings for contextual embeddings\n",
    "tokenizer = BertTokenizer.from_pretrained('bert-base-uncased')\n",
    "model = BertModel.from_pretrained('bert-base-uncased')\n"
   ]
  },
  {
   "cell_type": "code",
   "execution_count": 23,
   "metadata": {},
   "outputs": [],
   "source": [
    "def get_bert_embeddings(text_list):\n",
    "    tokens = tokenizer(text_list, padding=True, truncation=True, max_length=64, return_tensors=\"pt\")\n",
    "    with torch.no_grad():\n",
    "        outputs = model(**tokens)\n",
    "    # Use the CLS token embeddings as the document representation\n",
    "    return outputs.last_hidden_state[:, 0, :].numpy()\n",
    "\n"
   ]
  },
  {
   "cell_type": "code",
   "execution_count": 24,
   "metadata": {},
   "outputs": [],
   "source": [
    "#X_text_Prebert = StringDataWithNames['Alltext']\n",
    "#X_embeddings = get_bert_embeddings(X_text_Prebert.tolist())\n",
    "embeddings_directions = get_bert_embeddings(StringDataWithNames['directions'].tolist())\n",
    "embeddings_desc = get_bert_embeddings(StringDataWithNames['desc'].tolist())\n",
    "embeddings_categories = get_bert_embeddings(StringDataWithNames['categories'].tolist())\n",
    "embeddings_title = get_bert_embeddings(StringDataWithNames['title'].tolist())\n",
    "\n",
    "# Stack all features together\n",
    "X_embeddings = np.hstack([\n",
    "    embeddings_directions,\n",
    "    embeddings_desc,\n",
    "    embeddings_categories,\n",
    "    embeddings_title,\n",
    "    numeric_features\n",
    "])\n",
    "\n",
    "\n",
    "\n"
   ]
  },
  {
   "cell_type": "code",
   "execution_count": 25,
   "metadata": {},
   "outputs": [],
   "source": [
    "# Combine BERT embeddings and numeric features\n",
    "X_BERT = torch.tensor(\n",
    "    pd.concat(\n",
    "        [pd.DataFrame(X_embeddings), pd.DataFrame(numeric_features)],\n",
    "        axis=1\n",
    "    ).values,\n",
    "    dtype=torch.float32\n",
    ")\n",
    "y = torch.tensor(data['rating'].values, dtype=torch.float32)  # Target variable"
   ]
  },
  {
   "cell_type": "code",
   "execution_count": 26,
   "metadata": {},
   "outputs": [],
   "source": [
    "# Split BERT\n",
    "X_train_bert, X_test_bert, y_train, y_test = train_test_split(\n",
    "    X_BERT, y, test_size=0.2, random_state=42)\n",
    "\n",
    "X_val_bert, X_test_bert, y_val, y_test = train_test_split(\n",
    "    X_test_bert, y_test, test_size=0.5, random_state=42)"
   ]
  },
  {
   "cell_type": "markdown",
   "metadata": {},
   "source": [
    "-----------------------------------------------------------------------------Before Starting---------------------------------------------------------------------"
   ]
  },
  {
   "cell_type": "code",
   "execution_count": null,
   "metadata": {},
   "outputs": [],
   "source": [
    "\n",
    "# Calculate the mean of the 'rating' feature\n",
    "mean_rating = StringData['rating'].mean()\n",
    "\n",
    "# Create a prediction array with the mean value for all samples\n",
    "predictions = np.full_like(StringData['rating'], mean_rating)\n",
    "\n",
    "# Calculate the MAE\n",
    "mae = mean_absolute_error(StringData['rating'], predictions)\n",
    "\n",
    "print(f\"Mean rating: {mean_rating}\")\n",
    "print(f\"MAE when predicting the mean: {mae}\")"
   ]
  },
  {
   "cell_type": "markdown",
   "metadata": {},
   "source": [
    "--------------------------------------------------------------------KNN------------------------------------------------------------------"
   ]
  },
  {
   "cell_type": "code",
   "execution_count": null,
   "metadata": {},
   "outputs": [],
   "source": [
    "\n",
    "knn_model = KNeighborsRegressor(n_neighbors=5)\n",
    "knn_model.fit(X_train_TFIDF, y_train)"
   ]
  },
  {
   "cell_type": "code",
   "execution_count": null,
   "metadata": {},
   "outputs": [],
   "source": [
    "# Ensure X_test and y_test are numpy arrays\n",
    "#X_test_bert_np = X_train_bert.cpu().numpy() if isinstance(X_train_bert, torch.Tensor) else X_train_bert\n",
    "#y_test_np = y_test.cpu().numpy() if isinstance(y_test, torch.Tensor) else y_test\n",
    "\n",
    "# Predictions and evaluation\n",
    "knn_predictions = knn_model.predict(X_test_TFIDF)\n",
    "print(\"KNN MSE:\", mean_squared_error(y_test, knn_predictions))\n",
    "print(\"KNN MAE:\", mean_absolute_error(y_test, knn_predictions))"
   ]
  },
  {
   "cell_type": "code",
   "execution_count": null,
   "metadata": {},
   "outputs": [],
   "source": [
    "knn_model = KNeighborsRegressor(n_neighbors=5)\n",
    "knn_model.fit(X_train_W2V, y_train)"
   ]
  },
  {
   "cell_type": "code",
   "execution_count": null,
   "metadata": {},
   "outputs": [],
   "source": [
    "# Ensure X_test and y_test are numpy arrays\n",
    "#X_test_W2V_np = X_test_W2V.cpu().numpy() if isinstance(X_test_W2V, torch.Tensor) else X_test_W2V\n",
    "#y_test_np = y_test.cpu().numpy() if isinstance(y_test, torch.Tensor) else y_test\n",
    "\n",
    "\n",
    "# Ensure y_test is a NumPy array\n",
    "y_test_np = np.array(y_test)\n",
    "\n",
    "# Compute metrics\n",
    "\n",
    "\n",
    "# Predictions and evaluation\n",
    "knn_predictions = knn_model.predict(X_test_W2V)\n",
    "print(\"KNN MSE:\", mean_squared_error(y_test, knn_predictions))\n",
    "print(\"KNN MAE:\",  mean_absolute_error(y_test, knn_predictions))\n"
   ]
  },
  {
   "cell_type": "code",
   "execution_count": null,
   "metadata": {},
   "outputs": [],
   "source": [
    "knn_model = KNeighborsRegressor(n_neighbors=5)\n",
    "knn_model.fit(X_train_bert, y_train)\n"
   ]
  },
  {
   "cell_type": "code",
   "execution_count": null,
   "metadata": {},
   "outputs": [],
   "source": [
    "\n",
    "# Ensure X_test and y_test are numpy arrays\n",
    "#X_test_W2V_np = X_test_W2V.cpu().numpy() if isinstance(X_test_W2V, torch.Tensor) else X_test_W2V\n",
    "#y_test_np = y_test.cpu().numpy() if isinstance(y_test, torch.Tensor) else y_test\n",
    "\n",
    "\n",
    "# Ensure y_test is a NumPy array\n",
    "y_test_np = np.array(y_test)\n",
    "\n",
    "# Compute metrics\n",
    "\n",
    "\n",
    "# Predictions and evaluation\n",
    "knn_predictions = knn_model.predict(X_test_bert)\n",
    "print(\"KNN MSE:\", mean_squared_error(y_test_np, knn_predictions))\n",
    "print(\"KNN MAE:\",  mean_absolute_error(y_test,knn_predictions))\n"
   ]
  },
  {
   "cell_type": "markdown",
   "metadata": {},
   "source": [
    "--------------------------------------------------------------------SIMPLE NN------------------------------------------------------------------"
   ]
  },
  {
   "cell_type": "markdown",
   "metadata": {},
   "source": [
    "----------------------------------------------------------------------SIMPLE NN WITH W2V-----------------------------------------------------------"
   ]
  },
  {
   "cell_type": "code",
   "execution_count": 34,
   "metadata": {},
   "outputs": [],
   "source": [
    "# Train a neural network using PyTorch\n",
    "class SimpleNN(nn.Module):\n",
    "    def __init__(self, input_size):\n",
    "        super(SimpleNN, self).__init__()\n",
    "        self.fc = nn.Sequential(\n",
    "            nn.Linear(input_size, 128),\n",
    "            nn.ReLU(),\n",
    "            nn.Linear(128, 1)\n",
    "        )\n",
    "\n",
    "    def forward(self, x):\n",
    "        return self.fc(x)\n",
    "\n"
   ]
  },
  {
   "cell_type": "code",
   "execution_count": 35,
   "metadata": {},
   "outputs": [],
   "source": [
    "input_size = X_train_W2V.shape[1]\n",
    "model = SimpleNN(input_size).to(device)\n",
    "\n",
    "criterion = nn.L1Loss()\n",
    "optimizer = optim.Adam(model.parameters(), lr=0.001)"
   ]
  },
  {
   "cell_type": "code",
   "execution_count": 36,
   "metadata": {},
   "outputs": [],
   "source": [
    "# Convert data to tensors\n",
    "# Ensure tensors are created correctly without redundant wrapping\n",
    "X_train_tensor = torch.from_numpy(X_train_W2V).float().to(device) if isinstance(X_train_W2V, np.ndarray) else X_train_W2V.clone().detach().float().to(device)\n",
    "y_train_tensor = torch.tensor(y_train, dtype=torch.float32).view(-1, 1).to(device) if not torch.is_tensor(y_train) else y_train.clone().detach().view(-1, 1).to(device)\n",
    "\n",
    "X_val_tensor = torch.from_numpy(X_val_W2V).float().to(device) if isinstance(X_val_W2V, np.ndarray) else X_val_W2V.clone().detach().float().to(device)\n",
    "y_val_tensor = torch.tensor(y_val, dtype=torch.float32).view(-1, 1).to(device) if not torch.is_tensor(y_val) else y_val.clone().detach().view(-1, 1).to(device)\n",
    "\n",
    "X_test_tensor = torch.from_numpy(X_test_W2V).float().to(device) if isinstance(X_test_W2V, np.ndarray) else X_test_W2V.clone().detach().float().to(device)\n",
    "y_test_tensor = torch.tensor(y_test, dtype=torch.float32).view(-1, 1).to(device) if not torch.is_tensor(y_test) else y_test.clone().detach().view(-1, 1).to(device)\n"
   ]
  },
  {
   "cell_type": "code",
   "execution_count": null,
   "metadata": {},
   "outputs": [],
   "source": [
    "# Training loop\n",
    "best_val_loss = float('inf')  # Initialize to a large value\n",
    "patience = 200  # Number of epochs to wait before stopping\n",
    "tolerance = 1e-6  # Minimum improvement in validation loss to consider it better\n",
    "no_improve_epochs = 0  # Counter for early stopping\n",
    "\n",
    "# Save the best model\n",
    "best_model_state = None\n",
    "\n",
    "for epoch in range(1000):\n",
    "    # Training phase\n",
    "    model.train()\n",
    "    optimizer.zero_grad()\n",
    "    predictions = model(X_train_tensor)\n",
    "    train_loss = criterion(predictions, y_train_tensor)\n",
    "    train_loss.backward()\n",
    "    optimizer.step()\n",
    "\n",
    "    # Validation phase\n",
    "    model.eval()\n",
    "    with torch.no_grad():\n",
    "        val_predictions = model(X_val_tensor)\n",
    "        val_loss = criterion(val_predictions, y_val_tensor)\n",
    "\n",
    "    # Check for early stopping\n",
    "    if val_loss.item() < best_val_loss - tolerance:\n",
    "        best_val_loss = val_loss.item()\n",
    "        best_model_state = model.state_dict()  # Save the best model\n",
    "        no_improve_epochs = 0  # Reset counter\n",
    "    else:\n",
    "        no_improve_epochs += 1\n",
    "\n",
    "    # Logging\n",
    "    if (epoch + 1) % 10 == 0 or no_improve_epochs == 0:\n",
    "        print(f\"Epoch {epoch+1}, Training Loss: {train_loss.item()}, Validation Loss: {val_loss.item()}\")\n",
    "\n",
    "    # Early stopping condition\n",
    "    if no_improve_epochs >= patience:\n",
    "        print(f\"Early stopping triggered at epoch {epoch+1}\")\n",
    "        break\n",
    "\n",
    "# Restore the best model after early stopping\n",
    "if best_model_state is not None:\n",
    "    model.load_state_dict(best_model_state)\n",
    "    print(f\"Model restored to the state from epoch with Validation Loss: {best_val_loss}\")\n",
    "\n"
   ]
  },
  {
   "cell_type": "code",
   "execution_count": null,
   "metadata": {},
   "outputs": [],
   "source": [
    "# Evaluation\n",
    "\n",
    "# Ensure the model is in evaluation mode\n",
    "model.eval()\n",
    "\n",
    "# Perform evaluation\n",
    "with torch.no_grad():\n",
    "    # Get predictions from the model\n",
    "    test_predictions = model(X_test_tensor)\n",
    "    \n",
    "    # Calculate loss (optional, if criterion is defined)\n",
    "    test_loss = criterion(test_predictions, y_test_tensor)\n",
    "    print(\"Neural Network Test Loss:\", test_loss.item())\n",
    "    \n",
    "    # Convert predictions and ground truth to NumPy for compatibility with metrics\n",
    "    test_predictions_np = test_predictions.cpu().numpy()\n",
    "    y_test_np = y_test_tensor.cpu().numpy()\n",
    "    \n",
    "    print(\"Neural Network Test Metrics:\")\n",
    "    print(f\" - Mean Squared Error (MSE): { mean_squared_error(y_test_np, test_predictions_np)}\")\n",
    "    print(f\" - Mean Absolute Error (MAE): {mean_absolute_error(y_test_np, test_predictions_np)}\")\n",
    "\n"
   ]
  },
  {
   "cell_type": "markdown",
   "metadata": {},
   "source": [
    "----------------------------------------------------------------------SIMPLE NN WITH TFIDF-----------------------------------------------------------"
   ]
  },
  {
   "cell_type": "code",
   "execution_count": 39,
   "metadata": {},
   "outputs": [],
   "source": [
    "input_size = X_train_TFIDF.shape[1]\n",
    "model = SimpleNN(input_size).to(device)\n",
    "\n",
    "criterion = nn.L1Loss()\n",
    "optimizer = optim.Adam(model.parameters(), lr=0.001)"
   ]
  },
  {
   "cell_type": "code",
   "execution_count": 40,
   "metadata": {},
   "outputs": [],
   "source": [
    "# Convert data to tensors\n",
    "# Ensure tensors are created correctly without redundant wrapping\n",
    "X_train_tensor = torch.from_numpy(X_train_TFIDF).float().to(device) if isinstance(X_train_TFIDF, np.ndarray) else X_train_TFIDF.clone().detach().float().to(device)\n",
    "y_train_tensor = torch.tensor(y_train, dtype=torch.float32).view(-1, 1).to(device) if not torch.is_tensor(y_train) else y_train.clone().detach().view(-1, 1).to(device)\n",
    "\n",
    "X_val_tensor = torch.from_numpy(X_val_TFIDF).float().to(device) if isinstance(X_val_TFIDF, np.ndarray) else X_val_TFIDF.clone().detach().float().to(device)\n",
    "y_val_tensor = torch.tensor(y_val, dtype=torch.float32).view(-1, 1).to(device) if not torch.is_tensor(y_val) else y_val.clone().detach().view(-1, 1).to(device)\n",
    "\n",
    "X_test_tensor = torch.from_numpy(X_test_TFIDF).float().to(device) if isinstance(X_test_TFIDF, np.ndarray) else X_test_TFIDF.clone().detach().float().to(device)\n",
    "y_test_tensor = torch.tensor(y_test, dtype=torch.float32).view(-1, 1).to(device) if not torch.is_tensor(y_test) else y_test.clone().detach().view(-1, 1).to(device)\n"
   ]
  },
  {
   "cell_type": "code",
   "execution_count": null,
   "metadata": {},
   "outputs": [],
   "source": [
    "# Training loop\n",
    "best_val_loss = float('inf')  # Initialize to a large value\n",
    "patience = 200  # Number of epochs to wait before stopping\n",
    "tolerance = 1e-6  # Minimum improvement in validation loss to consider it better\n",
    "no_improve_epochs = 0  # Counter for early stopping\n",
    "\n",
    "# Save the best model\n",
    "best_model_state = None\n",
    "\n",
    "for epoch in range(1000):\n",
    "    # Training phase\n",
    "    model.train()\n",
    "    optimizer.zero_grad()\n",
    "    predictions = model(X_train_tensor)\n",
    "    train_loss = criterion(predictions, y_train_tensor)\n",
    "    train_loss.backward()\n",
    "    optimizer.step()\n",
    "\n",
    "    # Validation phase\n",
    "    model.eval()\n",
    "    with torch.no_grad():\n",
    "        val_predictions = model(X_val_tensor)\n",
    "        val_loss = criterion(val_predictions, y_val_tensor)\n",
    "\n",
    "    # Check for early stopping\n",
    "    if val_loss.item() < best_val_loss - tolerance:\n",
    "        best_val_loss = val_loss.item()\n",
    "        best_model_state = model.state_dict()  # Save the best model\n",
    "        no_improve_epochs = 0  # Reset counter\n",
    "    else:\n",
    "        no_improve_epochs += 1\n",
    "\n",
    "    # Logging\n",
    "    if (epoch + 1) % 10 == 0 or no_improve_epochs == 0:\n",
    "        print(f\"Epoch {epoch+1}, Training Loss: {train_loss.item()}, Validation Loss: {val_loss.item()}\")\n",
    "\n",
    "    # Early stopping condition\n",
    "    if no_improve_epochs >= patience:\n",
    "        print(f\"Early stopping triggered at epoch {epoch+1}\")\n",
    "        break\n",
    "\n",
    "# Restore the best model after early stopping\n",
    "if best_model_state is not None:\n",
    "    model.load_state_dict(best_model_state)\n",
    "    print(f\"Model restored to the state from epoch with Validation Loss: {best_val_loss}\")"
   ]
  },
  {
   "cell_type": "code",
   "execution_count": null,
   "metadata": {},
   "outputs": [],
   "source": [
    "# Evaluation\n",
    "\n",
    "# Ensure the model is in evaluation mode\n",
    "model.eval()\n",
    "\n",
    "# Perform evaluation\n",
    "with torch.no_grad():\n",
    "    # Get predictions from the model\n",
    "    test_predictions = model(X_test_tensor)\n",
    "    \n",
    "    # Calculate loss (optional, if criterion is defined)\n",
    "    test_loss = criterion(test_predictions, y_test_tensor)\n",
    "    print(\"Neural Network Test Loss:\", test_loss.item())\n",
    "    \n",
    "    # Convert predictions and ground truth to NumPy for compatibility with metrics\n",
    "    test_predictions_np = test_predictions.cpu().numpy()\n",
    "    y_test_np = y_test_tensor.cpu().numpy()\n",
    "    \n",
    "    print(\"Neural Network Test Metrics:\")\n",
    "    print(f\" - Mean Squared Error (MSE): { mean_squared_error(y_test_np, test_predictions_np)}\")\n",
    "    print(f\" - Mean Absolute Error (MAE): {mean_absolute_error(y_test_np, test_predictions_np)}\")"
   ]
  },
  {
   "cell_type": "markdown",
   "metadata": {},
   "source": [
    "----------------------------------------------------------------------SIMPLE NN WITH BERT-----------------------------------------------------------"
   ]
  },
  {
   "cell_type": "code",
   "execution_count": 43,
   "metadata": {},
   "outputs": [],
   "source": [
    "input_size = X_train_bert.shape[1]\n",
    "model = SimpleNN(input_size).to(device)\n",
    "\n",
    "criterion = nn.L1Loss()\n",
    "optimizer = optim.Adam(model.parameters(), lr=0.001)"
   ]
  },
  {
   "cell_type": "code",
   "execution_count": 44,
   "metadata": {},
   "outputs": [],
   "source": [
    "# Convert data to tensors\n",
    "# Ensure tensors are created correctly without redundant wrapping\n",
    "X_train_tensor = torch.from_numpy(X_train_bert).float().to(device) if isinstance(X_train_bert, np.ndarray) else X_train_bert.clone().detach().float().to(device)\n",
    "y_train_tensor = torch.tensor(y_train, dtype=torch.float32).view(-1, 1).to(device) if not torch.is_tensor(y_train) else y_train.clone().detach().view(-1, 1).to(device)\n",
    "\n",
    "X_val_tensor = torch.from_numpy(X_val_bert).float().to(device) if isinstance(X_val_bert, np.ndarray) else X_val_bert.clone().detach().float().to(device)\n",
    "y_val_tensor = torch.tensor(y_val, dtype=torch.float32).view(-1, 1).to(device) if not torch.is_tensor(y_val) else y_val.clone().detach().view(-1, 1).to(device)\n",
    "\n",
    "X_test_tensor = torch.from_numpy(X_test_bert).float().to(device) if isinstance(X_test_bert, np.ndarray) else X_test_bert.clone().detach().float().to(device)\n",
    "y_test_tensor = torch.tensor(y_test, dtype=torch.float32).view(-1, 1).to(device) if not torch.is_tensor(y_test) else y_test.clone().detach().view(-1, 1).to(device)\n"
   ]
  },
  {
   "cell_type": "code",
   "execution_count": null,
   "metadata": {},
   "outputs": [],
   "source": [
    "# Training loop\n",
    "best_val_loss = float('inf')  # Initialize to a large value\n",
    "patience = 500  # Number of epochs to wait before stopping\n",
    "tolerance = 1e-5  # Minimum improvement in validation loss to consider it better\n",
    "no_improve_epochs = 0  # Counter for early stopping\n",
    "\n",
    "# Save the best model\n",
    "best_model_state = None\n",
    "\n",
    "for epoch in range(1000):\n",
    "    # Training phase\n",
    "    model.train()\n",
    "    optimizer.zero_grad()\n",
    "    predictions = model(X_train_tensor)\n",
    "    train_loss = criterion(predictions, y_train_tensor)\n",
    "    train_loss.backward()\n",
    "    optimizer.step()\n",
    "\n",
    "    # Validation phase\n",
    "    model.eval()\n",
    "    with torch.no_grad():\n",
    "        val_predictions = model(X_val_tensor)\n",
    "        val_loss = criterion(val_predictions, y_val_tensor)\n",
    "\n",
    "    # Check for early stopping\n",
    "    if val_loss.item() < best_val_loss - tolerance:\n",
    "        best_val_loss = val_loss.item()\n",
    "        best_model_state = model.state_dict()  # Save the best model\n",
    "        no_improve_epochs = 0  # Reset counter\n",
    "    else:\n",
    "        no_improve_epochs += 1\n",
    "\n",
    "    # Logging\n",
    "    if (epoch + 1) % 10 == 0 or no_improve_epochs == 0:\n",
    "        print(f\"Epoch {epoch+1}, Training Loss: {train_loss.item()}, Validation Loss: {val_loss.item()}\")\n",
    "\n",
    "    # Early stopping condition\n",
    "    if no_improve_epochs >= patience:\n",
    "        print(f\"Early stopping triggered at epoch {epoch+1}\")\n",
    "        break\n",
    "\n",
    "# Restore the best model after early stopping\n",
    "if best_model_state is not None:\n",
    "    model.load_state_dict(best_model_state)\n",
    "    print(f\"Model restored to the state from epoch with Validation Loss: {best_val_loss}\")"
   ]
  },
  {
   "cell_type": "code",
   "execution_count": null,
   "metadata": {},
   "outputs": [],
   "source": [
    "# Evaluation\n",
    "\n",
    "# Ensure the model is in evaluation mode\n",
    "model.eval()\n",
    "\n",
    "# Perform evaluation\n",
    "with torch.no_grad():\n",
    "    # Get predictions from the model\n",
    "    test_predictions = model(X_test_tensor)\n",
    "    \n",
    "    # Calculate loss (optional, if criterion is defined)\n",
    "    test_loss = criterion(test_predictions, y_test_tensor)\n",
    "    print(\"Neural Network Test Loss:\", test_loss.item())\n",
    "    \n",
    "    # Convert predictions and ground truth to NumPy for compatibility with metrics\n",
    "    test_predictions_np = test_predictions.cpu().numpy()\n",
    "    y_test_np = y_test_tensor.cpu().numpy()\n",
    "    \n",
    "    print(\"Neural Network Test Metrics:\")\n",
    "    print(f\" - Mean Squared Error (MSE): { mean_squared_error(y_test_np, test_predictions_np)}\")\n",
    "    print(f\" - Mean Absolute Error (MAE): {mean_absolute_error(y_test_np, test_predictions_np)}\")"
   ]
  },
  {
   "cell_type": "markdown",
   "metadata": {},
   "source": [
    "------------------------------------------------------------------------COMPLEX MODEL------------------------------------------------------------------"
   ]
  },
  {
   "cell_type": "markdown",
   "metadata": {},
   "source": [
    "----------------------------------------------------------------------COMPLEX NN WITH W2V-----------------------------------------------------------"
   ]
  },
  {
   "cell_type": "code",
   "execution_count": 47,
   "metadata": {},
   "outputs": [],
   "source": [
    "\n",
    "\n",
    "class ComplexNN(nn.Module):\n",
    "    def __init__(self, input_size, hidden_sizes=None, dropout_rate=0.3):\n",
    "        super(ComplexNN, self).__init__()\n",
    "        \n",
    "        if hidden_sizes is None:\n",
    "            hidden_sizes = [256, 128, 64]  # Default hidden layer sizes\n",
    "        \n",
    "        layers = []\n",
    "        in_size = input_size\n",
    "        \n",
    "        # Add hidden layers\n",
    "        for hidden_size in hidden_sizes:\n",
    "            layers.append(nn.Linear(in_size, hidden_size))\n",
    "            layers.append(nn.ReLU())  # Activation function\n",
    "            layers.append(nn.BatchNorm1d(hidden_size))  # Batch normalization\n",
    "            layers.append(nn.Dropout(dropout_rate))  # Dropout for regularization\n",
    "            in_size = hidden_size\n",
    "        \n",
    "        # Output layer\n",
    "        layers.append(nn.Linear(hidden_sizes[-1], 1))\n",
    "        \n",
    "        # Define the sequential model\n",
    "        self.fc = nn.Sequential(*layers)\n",
    "\n",
    "    def forward(self, x):\n",
    "        return self.fc(x)\n",
    "\n",
    "\n",
    "\n"
   ]
  },
  {
   "cell_type": "code",
   "execution_count": 48,
   "metadata": {},
   "outputs": [],
   "source": [
    "input_size = X_train_W2V.shape[1]  # Input feature size\n",
    "model = ComplexNN(input_size, hidden_sizes=[512, 256, 128], dropout_rate=0.4).to(device)\n",
    "\n",
    "criterion = nn.L1Loss()\n",
    "optimizer = optim.Adam(model.parameters(), lr=0.0011)  # Optimizer"
   ]
  },
  {
   "cell_type": "code",
   "execution_count": 49,
   "metadata": {},
   "outputs": [],
   "source": [
    "# Convert data to tensors\n",
    "# Ensure tensors are created correctly without redundant wrapping\n",
    "X_train_tensor = torch.from_numpy(X_train_W2V).float().to(device) if isinstance(X_train_W2V, np.ndarray) else X_train_W2V.clone().detach().float().to(device)\n",
    "y_train_tensor = torch.tensor(y_train, dtype=torch.float32).view(-1, 1).to(device) if not torch.is_tensor(y_train) else y_train.clone().detach().view(-1, 1).to(device)\n",
    "\n",
    "X_val_tensor = torch.from_numpy(X_val_W2V).float().to(device) if isinstance(X_val_W2V, np.ndarray) else X_val_W2V.clone().detach().float().to(device)\n",
    "y_val_tensor = torch.tensor(y_val, dtype=torch.float32).view(-1, 1).to(device) if not torch.is_tensor(y_val) else y_val.clone().detach().view(-1, 1).to(device)\n",
    "\n",
    "X_test_tensor = torch.from_numpy(X_test_W2V).float().to(device) if isinstance(X_test_W2V, np.ndarray) else X_test_W2V.clone().detach().float().to(device)\n",
    "y_test_tensor = torch.tensor(y_test, dtype=torch.float32).view(-1, 1).to(device) if not torch.is_tensor(y_test) else y_test.clone().detach().view(-1, 1).to(device)"
   ]
  },
  {
   "cell_type": "code",
   "execution_count": null,
   "metadata": {},
   "outputs": [],
   "source": [
    "\n",
    "\n",
    "# Initialize variables for early stopping\n",
    "best_val_loss = float('inf')  # Initialize to a large value\n",
    "patience = 1000  # Number of epochs to wait before stopping\n",
    "tolerance = 1e-6  # Minimum improvement in validation loss to consider it better\n",
    "no_improve_epochs = 0  # Counter for early stopping\n",
    "\n",
    "# Save the best model\n",
    "best_model_state = None\n",
    "\n",
    "for epoch in range(5000):\n",
    "    # Training phase\n",
    "    model.train()\n",
    "    optimizer.zero_grad()\n",
    "    predictions = model(X_train_tensor)\n",
    "    train_loss = criterion(predictions, y_train_tensor)\n",
    "    train_loss.backward()\n",
    "    optimizer.step()\n",
    "\n",
    "    # Validation phase\n",
    "    model.eval()\n",
    "    with torch.no_grad():\n",
    "        val_predictions = model(X_val_tensor)\n",
    "        val_loss = criterion(val_predictions, y_val_tensor)\n",
    "\n",
    "    # Check for early stopping\n",
    "    if val_loss.item() < best_val_loss - tolerance:\n",
    "        best_val_loss = val_loss.item()\n",
    "        best_model_state = model.state_dict()  # Save the best model\n",
    "        no_improve_epochs = 0  # Reset counter\n",
    "    else:\n",
    "        no_improve_epochs += 1\n",
    "\n",
    "    # Logging\n",
    "    if (epoch + 1) % 10 == 0 or no_improve_epochs == 0:\n",
    "        print(f\"Epoch {epoch+1}, Training Loss: {train_loss.item()}, Validation Loss: {val_loss.item()}\")\n",
    "\n",
    "    # Early stopping condition\n",
    "    if no_improve_epochs >= patience:\n",
    "        print(f\"Early stopping triggered at epoch {epoch+1}\")\n",
    "        break\n",
    "\n",
    "# Restore the best model after early stopping\n",
    "if best_model_state is not None:\n",
    "    model.load_state_dict(best_model_state)\n",
    "    print(f\"Model restored to the state from epoch with Validation Loss: {best_val_loss}\")\n"
   ]
  },
  {
   "cell_type": "code",
   "execution_count": null,
   "metadata": {},
   "outputs": [],
   "source": [
    "# Evaluation\n",
    "\n",
    "# Ensure the model is in evaluation mode\n",
    "model.eval()\n",
    "\n",
    "# Perform evaluation\n",
    "with torch.no_grad():\n",
    "    # Get predictions from the model\n",
    "    test_predictions = model(X_test_tensor)\n",
    "    \n",
    "    # Calculate loss (optional, if criterion is defined)\n",
    "    test_loss = criterion(test_predictions, y_test_tensor)\n",
    "    print(\"Neural Network Test Loss:\", test_loss.item())\n",
    "    \n",
    "    # Convert predictions and ground truth to NumPy for compatibility with metrics\n",
    "    test_predictions_np = test_predictions.cpu().numpy()\n",
    "    y_test_np = y_test_tensor.cpu().numpy()\n",
    "    \n",
    "    print(\"Neural Network Test Metrics:\")\n",
    "    print(f\" - Mean Squared Error (MSE): { mean_squared_error(y_test_np, test_predictions_np)}\")\n",
    "    print(f\" - Mean Absolute Error (MAE): {mean_absolute_error(y_test_np, test_predictions_np)}\")\n"
   ]
  },
  {
   "cell_type": "markdown",
   "metadata": {},
   "source": [
    "----------------------------------------------------------------------COMPLEX NN WITH TFIDF-----------------------------------------------------------"
   ]
  },
  {
   "cell_type": "code",
   "execution_count": 52,
   "metadata": {},
   "outputs": [],
   "source": [
    "input_size = X_train_TFIDF.shape[1]  # Input feature size\n",
    "model = ComplexNN(input_size, hidden_sizes=[512, 256, 128], dropout_rate=0.4).to(device)\n",
    "\n",
    "criterion = nn.L1Loss()\n",
    "optimizer = optim.Adam(model.parameters(), lr=0.0011)  # Optimizer"
   ]
  },
  {
   "cell_type": "code",
   "execution_count": 53,
   "metadata": {},
   "outputs": [],
   "source": [
    "# Convert data to tensors\n",
    "# Ensure tensors are created correctly without redundant wrapping\n",
    "X_train_tensor = torch.from_numpy(X_train_TFIDF).float().to(device) if isinstance(X_train_TFIDF, np.ndarray) else X_train_TFIDF.clone().detach().float().to(device)\n",
    "y_train_tensor = torch.tensor(y_train, dtype=torch.float32).view(-1, 1).to(device) if not torch.is_tensor(y_train) else y_train.clone().detach().view(-1, 1).to(device)\n",
    "\n",
    "X_val_tensor = torch.from_numpy(X_val_TFIDF).float().to(device) if isinstance(X_val_TFIDF, np.ndarray) else X_val_TFIDF.clone().detach().float().to(device)\n",
    "y_val_tensor = torch.tensor(y_val, dtype=torch.float32).view(-1, 1).to(device) if not torch.is_tensor(y_val) else y_val.clone().detach().view(-1, 1).to(device)\n",
    "\n",
    "X_test_tensor = torch.from_numpy(X_test_TFIDF).float().to(device) if isinstance(X_test_TFIDF, np.ndarray) else X_test_TFIDF.clone().detach().float().to(device)\n",
    "y_test_tensor = torch.tensor(y_test, dtype=torch.float32).view(-1, 1).to(device) if not torch.is_tensor(y_test) else y_test.clone().detach().view(-1, 1).to(device)"
   ]
  },
  {
   "cell_type": "code",
   "execution_count": null,
   "metadata": {},
   "outputs": [],
   "source": [
    "# Initialize variables for early stopping\n",
    "best_val_loss = float('inf')  # Initialize to a large value\n",
    "patience = 1000  # Number of epochs to wait before stopping\n",
    "tolerance = 1e-6 # Minimum improvement in validation loss to consider it better\n",
    "no_improve_epochs = 0  # Counter for early stopping\n",
    "\n",
    "# Save the best model\n",
    "best_model_state = None\n",
    "\n",
    "for epoch in range(5000):\n",
    "    # Training phase\n",
    "    model.train()\n",
    "    optimizer.zero_grad()\n",
    "    predictions = model(X_train_tensor)\n",
    "    train_loss = criterion(predictions, y_train_tensor)\n",
    "    train_loss.backward()\n",
    "    optimizer.step()\n",
    "\n",
    "    # Validation phase\n",
    "    model.eval()\n",
    "    with torch.no_grad():\n",
    "        val_predictions = model(X_val_tensor)\n",
    "        val_loss = criterion(val_predictions, y_val_tensor)\n",
    "\n",
    "    # Check for early stopping\n",
    "    if val_loss.item() < best_val_loss - tolerance:\n",
    "        best_val_loss = val_loss.item()\n",
    "        best_model_state = model.state_dict()  # Save the best model\n",
    "        no_improve_epochs = 0  # Reset counter\n",
    "    else:\n",
    "        no_improve_epochs += 1\n",
    "\n",
    "    # Logging\n",
    "    if (epoch + 1) % 10 == 0 or no_improve_epochs == 0:\n",
    "        print(f\"Epoch {epoch+1}, Training Loss: {train_loss.item()}, Validation Loss: {val_loss.item()}\")\n",
    "\n",
    "    # Early stopping condition\n",
    "    if no_improve_epochs >= patience:\n",
    "        print(f\"Early stopping triggered at epoch {epoch+1}\")\n",
    "        break\n",
    "\n",
    "# Restore the best model after early stopping\n",
    "if best_model_state is not None:\n",
    "    model.load_state_dict(best_model_state)\n",
    "    print(f\"Model restored to the state from epoch with Validation Loss: {best_val_loss}\")\n"
   ]
  },
  {
   "cell_type": "code",
   "execution_count": null,
   "metadata": {},
   "outputs": [],
   "source": [
    "# Evaluation\n",
    "\n",
    "# Ensure the model is in evaluation mode\n",
    "model.eval()\n",
    "\n",
    "# Perform evaluation\n",
    "with torch.no_grad():\n",
    "    # Get predictions from the model\n",
    "    test_predictions = model(X_test_tensor)\n",
    "    \n",
    "    # Calculate loss (optional, if criterion is defined)\n",
    "    test_loss = criterion(test_predictions, y_test_tensor)\n",
    "    print(\"Neural Network Test Loss:\", test_loss.item())\n",
    "    \n",
    "    # Convert predictions and ground truth to NumPy for compatibility with metrics\n",
    "    test_predictions_np = test_predictions.cpu().numpy()\n",
    "    y_test_np = y_test_tensor.cpu().numpy()\n",
    "    \n",
    "    print(\"Neural Network Test Metrics:\")\n",
    "    print(f\" - Mean Squared Error (MSE): { mean_squared_error(y_test_np, test_predictions_np)}\")\n",
    "    print(f\" - Mean Absolute Error (MAE): {mean_absolute_error(y_test_np, test_predictions_np)}\")"
   ]
  },
  {
   "cell_type": "markdown",
   "metadata": {},
   "source": [
    "----------------------------------------------------------------------COMPLEX NN WITH BERT-----------------------------------------------------------"
   ]
  },
  {
   "cell_type": "code",
   "execution_count": 56,
   "metadata": {},
   "outputs": [],
   "source": [
    "input_size = X_train_bert.shape[1]  # Input feature size\n",
    "model = ComplexNN(input_size, hidden_sizes=[512, 256, 128], dropout_rate=0.4).to(device)\n",
    "\n",
    "criterion = nn.L1Loss()\n",
    "optimizer = optim.Adam(model.parameters(), lr=0.0011)  # Optimizer"
   ]
  },
  {
   "cell_type": "code",
   "execution_count": 57,
   "metadata": {},
   "outputs": [],
   "source": [
    "# Convert data to tensors\n",
    "# Ensure tensors are created correctly without redundant wrapping\n",
    "X_train_tensor = torch.from_numpy(X_train_bert).float().to(device) if isinstance(X_train_bert, np.ndarray) else X_train_bert.clone().detach().float().to(device)\n",
    "y_train_tensor = torch.tensor(y_train, dtype=torch.float32).view(-1, 1).to(device) if not torch.is_tensor(y_train) else y_train.clone().detach().view(-1, 1).to(device)\n",
    "\n",
    "X_val_tensor = torch.from_numpy(X_val_bert).float().to(device) if isinstance(X_val_bert, np.ndarray) else X_val_bert.clone().detach().float().to(device)\n",
    "y_val_tensor = torch.tensor(y_val, dtype=torch.float32).view(-1, 1).to(device) if not torch.is_tensor(y_val) else y_val.clone().detach().view(-1, 1).to(device)\n",
    "\n",
    "X_test_tensor = torch.from_numpy(X_test_bert).float().to(device) if isinstance(X_test_bert, np.ndarray) else X_test_bert.clone().detach().float().to(device)\n",
    "y_test_tensor = torch.tensor(y_test, dtype=torch.float32).view(-1, 1).to(device) if not torch.is_tensor(y_test) else y_test.clone().detach().view(-1, 1).to(device)"
   ]
  },
  {
   "cell_type": "code",
   "execution_count": null,
   "metadata": {},
   "outputs": [],
   "source": [
    "# Initialize variables for early stopping\n",
    "best_val_loss = float('inf')  # Initialize to a large value\n",
    "patience = 1000  # Number of epochs to wait before stopping\n",
    "tolerance = 1e-6  # Minimum improvement in validation loss to consider it better\n",
    "no_improve_epochs = 0  # Counter for early stopping\n",
    "\n",
    "# Save the best model\n",
    "best_model_state = None\n",
    "\n",
    "for epoch in range(5000):\n",
    "    # Training phase\n",
    "    model.train()\n",
    "    optimizer.zero_grad()\n",
    "    predictions = model(X_train_tensor)\n",
    "    train_loss = criterion(predictions, y_train_tensor)\n",
    "    train_loss.backward()\n",
    "    optimizer.step()\n",
    "\n",
    "    # Validation phase\n",
    "    model.eval()\n",
    "    with torch.no_grad():\n",
    "        val_predictions = model(X_val_tensor)\n",
    "        val_loss = criterion(val_predictions, y_val_tensor)\n",
    "\n",
    "    # Check for early stopping\n",
    "    if val_loss.item() < best_val_loss - tolerance:\n",
    "        best_val_loss = val_loss.item()\n",
    "        best_model_state = model.state_dict()  # Save the best model\n",
    "        no_improve_epochs = 0  # Reset counter\n",
    "    else:\n",
    "        no_improve_epochs += 1\n",
    "\n",
    "    # Logging\n",
    "    if (epoch + 1) % 10 == 0 or no_improve_epochs == 0:\n",
    "        print(f\"Epoch {epoch+1}, Training Loss: {train_loss.item()}, Validation Loss: {val_loss.item()}\")\n",
    "\n",
    "    # Early stopping condition\n",
    "    if no_improve_epochs >= patience:\n",
    "        print(f\"Early stopping triggered at epoch {epoch+1}\")\n",
    "        break\n",
    "\n",
    "# Restore the best model after early stopping\n",
    "if best_model_state is not None:\n",
    "    model.load_state_dict(best_model_state)\n",
    "    print(f\"Model restored to the state from epoch with Validation Loss: {best_val_loss}\")\n"
   ]
  },
  {
   "cell_type": "code",
   "execution_count": null,
   "metadata": {},
   "outputs": [],
   "source": [
    "# Evaluation\n",
    "\n",
    "# Ensure the model is in evaluation mode\n",
    "model.eval()\n",
    "\n",
    "# Perform evaluation\n",
    "with torch.no_grad():\n",
    "    # Get predictions from the model\n",
    "    test_predictions = model(X_test_tensor)\n",
    "    \n",
    "    # Calculate loss (optional, if criterion is defined)\n",
    "    test_loss = criterion(test_predictions, y_test_tensor)\n",
    "    print(\"Neural Network Test Loss:\", test_loss.item())\n",
    "    \n",
    "    # Convert predictions and ground truth to NumPy for compatibility with metrics\n",
    "    test_predictions_np = test_predictions.cpu().numpy()\n",
    "    y_test_np = y_test_tensor.cpu().numpy()\n",
    "    \n",
    "    print(\"Neural Network Test Metrics:\")\n",
    "    print(f\" - Mean Squared Error (MSE): { mean_squared_error(y_test_np, test_predictions_np)}\")\n",
    "    print(f\" - Mean Absolute Error (MAE): {mean_absolute_error(y_test_np, test_predictions_np)}\")"
   ]
  },
  {
   "cell_type": "markdown",
   "metadata": {},
   "source": [
    "------------------------------------------------------------------------FINE TUNNING FROM HUGGING FACE--------------------------------------------------------------------------"
   ]
  },
  {
   "cell_type": "code",
   "execution_count": null,
   "metadata": {},
   "outputs": [],
   "source": [
    "tokenizer = BertTokenizer.from_pretrained('bert-base-uncased')\n",
    "\n",
    "labels = torch.tensor(data['rating'].values, dtype=torch.float32)\n",
    "\n",
    "# Prepare the numeric features\n",
    "numeric_features = torch.tensor(\n",
    "    numeric_features.values,\n",
    "    dtype=torch.float32\n",
    ").to(device)\n",
    "\n",
    "# Split data into train, validation, and test sets\n",
    "train_texts, temp_texts, train_numeric, temp_numeric, train_labels, temp_labels = train_test_split(\n",
    "    StringDataWithNames['Alltext'], numeric_features, labels, test_size=0.3, random_state=42\n",
    ")\n",
    "\n",
    "val_texts, test_texts, val_numeric, test_numeric, val_labels, test_labels = train_test_split(\n",
    "    temp_texts, temp_numeric, temp_labels, test_size=0.5, random_state=42\n",
    ")\n",
    "\n"
   ]
  },
  {
   "cell_type": "code",
   "execution_count": null,
   "metadata": {},
   "outputs": [],
   "source": [
    "def tokenize_data(df, max_length=64):\n",
    "    return tokenizer(\n",
    "        df['combined_text'].tolist(),\n",
    "        truncation=True,\n",
    "        padding=True,\n",
    "        max_length=max_length,\n",
    "        return_tensors=\"pt\"\n",
    "    )\n"
   ]
  },
  {
   "cell_type": "code",
   "execution_count": 64,
   "metadata": {},
   "outputs": [],
   "source": [
    "\n",
    "\n",
    "\n",
    "train_encodings = tokenize_data(train_texts)\n",
    "val_encodings = tokenize_data(val_texts)\n",
    "test_encodings = tokenize_data(test_texts)\n"
   ]
  },
  {
   "cell_type": "code",
   "execution_count": null,
   "metadata": {},
   "outputs": [],
   "source": [
    "class CustomDataset(torch.nn.dataset):\n",
    "    def __init__(self, encodings, numeric_features, labels):\n",
    "        self.encodings = encodings\n",
    "        self.numeric_features = numeric_features\n",
    "        self.labels = labels\n",
    "\n",
    "    def __len__(self):\n",
    "        return len(self.labels)\n",
    "\n",
    "    def __getitem__(self, idx):\n",
    "        item = {key: val[idx] for key, val in self.encodings.items()}\n",
    "        item['numeric_features'] = self.numeric_features[idx]\n",
    "        item['labels'] = self.labels[idx]\n",
    "        return item"
   ]
  },
  {
   "cell_type": "code",
   "execution_count": null,
   "metadata": {},
   "outputs": [],
   "source": [
    "\n",
    "train_dataset = CustomDataset(train_encodings, train_numeric, train_labels)\n",
    "val_dataset = CustomDataset(val_encodings, val_numeric, val_labels)\n",
    "test_dataset = CustomDataset(test_encodings, test_numeric, test_labels)"
   ]
  },
  {
   "cell_type": "code",
   "execution_count": 65,
   "metadata": {},
   "outputs": [],
   "source": [
    "class BERTRegressionWithNumeric(torch.nn.Module):\n",
    "    def __init__(self, bert_model_name, num_numeric_features):\n",
    "        super(BERTRegressionWithNumeric, self).__init__()\n",
    "        self.bert = BertModel.from_pretrained(bert_model_name)\n",
    "        self.regression_head = torch.nn.Sequential(\n",
    "            torch.nn.Linear(self.bert.config.hidden_size + num_numeric_features, 128),\n",
    "            torch.nn.ReLU(),\n",
    "            torch.nn.Dropout(0.1),\n",
    "            torch.nn.Linear(128, 1)\n",
    "        )\n",
    "\n",
    "    def forward(self, input_ids, attention_mask, numeric_features):\n",
    "        bert_outputs = self.bert(input_ids=input_ids, attention_mask=attention_mask)\n",
    "        cls_embeddings = bert_outputs.last_hidden_state[:, 0, :]  # CLS token embeddings\n",
    "        combined_features = torch.cat([cls_embeddings, numeric_features], dim=1)\n",
    "        return self.regression_head(combined_features)\n",
    "\n",
    "# Initialize model"
   ]
  },
  {
   "cell_type": "code",
   "execution_count": null,
   "metadata": {},
   "outputs": [],
   "source": [
    "model = BERTRegressionWithNumeric('bert-base-uncased', num_numeric_features=numeric_features.size(1))\n",
    "# Define optimizer and loss function\n",
    "optimizer = torch.optim.AdamW(model.parameters(), lr=5e-5)\n",
    "loss_fn = nn.L1Loss()"
   ]
  },
  {
   "cell_type": "code",
   "execution_count": null,
   "metadata": {},
   "outputs": [],
   "source": [
    "# Define training arguments\n",
    "training_args = TrainingArguments(\n",
    "    output_dir='./results',\n",
    "    num_train_epochs=3,\n",
    "    per_device_train_batch_size=8,\n",
    "    per_device_eval_batch_size=8,\n",
    "    warmup_steps=500,\n",
    "    weight_decay=0.01,\n",
    "    logging_dir='./logs',\n",
    "    evaluation_strategy=\"epoch\",\n",
    "    save_strategy=\"epoch\"\n",
    ")"
   ]
  },
  {
   "cell_type": "code",
   "execution_count": null,
   "metadata": {},
   "outputs": [],
   "source": [
    "class CustomTrainer(Trainer):\n",
    "    def compute_loss(self, model, inputs, return_outputs=False):\n",
    "        labels = inputs.pop(\"labels\")\n",
    "        numeric_features = inputs.pop(\"numeric_features\")\n",
    "        outputs = model(**inputs, numeric_features=numeric_features)\n",
    "        loss = loss_fn(outputs.squeeze(), labels)\n",
    "        return (loss, outputs) if return_outputs else loss"
   ]
  },
  {
   "cell_type": "code",
   "execution_count": null,
   "metadata": {},
   "outputs": [],
   "source": [
    "\n",
    "trainer = CustomTrainer(\n",
    "    model=model,\n",
    "    args=training_args,\n",
    "    train_dataset=train_dataset,\n",
    "    eval_dataset=val_dataset\n",
    ")\n",
    "# Train the model\n",
    "trainer.train()"
   ]
  },
  {
   "cell_type": "code",
   "execution_count": null,
   "metadata": {},
   "outputs": [],
   "source": [
    "# Save the model\n",
    "trainer.save_model('./fine_tuned_bert_with_numeric')"
   ]
  },
  {
   "cell_type": "code",
   "execution_count": null,
   "metadata": {},
   "outputs": [],
   "source": [
    "# Evaluate on test dataset\n",
    "test_predictions = trainer.predict(test_dataset).predictions.squeeze()\n",
    "test_labels_numpy = test_labels.numpy()"
   ]
  },
  {
   "cell_type": "code",
   "execution_count": null,
   "metadata": {},
   "outputs": [],
   "source": []
  },
  {
   "cell_type": "code",
   "execution_count": null,
   "metadata": {},
   "outputs": [],
   "source": []
  }
 ],
 "metadata": {
  "kernelspec": {
   "display_name": "Python 3",
   "language": "python",
   "name": "python3"
  },
  "language_info": {
   "codemirror_mode": {
    "name": "ipython",
    "version": 3
   },
   "file_extension": ".py",
   "mimetype": "text/x-python",
   "name": "python",
   "nbconvert_exporter": "python",
   "pygments_lexer": "ipython3",
   "version": "3.12.8"
  }
 },
 "nbformat": 4,
 "nbformat_minor": 2
}
